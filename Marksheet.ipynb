{
 "cells": [
  {
   "cell_type": "code",
   "execution_count": 12,
   "metadata": {},
   "outputs": [
    {
     "name": "stdout",
     "output_type": "stream",
     "text": [
      "<Marksheet>\n",
      "\n",
      "Enter Marks Obtained in Sindhi: 67\n",
      "Enter Marks Obtained in Urdu: 74\n",
      "Enter Marks Obtained in Science: 89\n",
      "Enter Marks Obtained in SST: 95\n",
      "Enter Marks Obtained in Islamiat: 64\n",
      "Enter Marks Obtained in English: 58\n",
      "\n",
      "Obtained Marks in Sindhi :  67 Out of 100\n",
      "Obtained Marks in Urdu :  74 Out of 100\n",
      "Obtained Marks in Science :  89 Out of 100\n",
      "Obtained Marks in SST :  95 Out of 100\n",
      "Obtained Marks in Islamiat :  64 Out of 100\n",
      "Obtained Marks in English :  58 Out of 100\n",
      "Total Marks : 600\n",
      "\n",
      "Obtained Marks :  447\n",
      "Percentage :  74.5\n",
      "Grade : A\n",
      "Remarks : Good Academic Performance\n"
     ]
    }
   ],
   "source": [
    "print(\"<Marksheet>\")\n",
    "\n",
    "#Input Obtained marks from the user\n",
    "Sindhi=int(input(\"\\nEnter Marks Obtained in Sindhi: \"))\n",
    "Urdu=int(input(\"Enter Marks Obtained in Urdu: \"))\n",
    "Science=int(input(\"Enter Marks Obtained in Science: \"))\n",
    "SST=int(input(\"Enter Marks Obtained in SST: \"))\n",
    "Islamiat=int(input(\"Enter Marks Obtained in Islamiat: \"))\n",
    "English=int(input(\"Enter Marks Obtained in English: \"))\n",
    "\n",
    "#Output of User Obtained Marks\n",
    "print (\"\\nObtained Marks in Sindhi : \",Sindhi,\"Out of 100\")\n",
    "print (\"Obtained Marks in Urdu : \",Urdu,\"Out of 100\")\n",
    "print (\"Obtained Marks in Science : \",Science,\"Out of 100\")\n",
    "print (\"Obtained Marks in SST : \",SST,\"Out of 100\")\n",
    "print (\"Obtained Marks in Islamiat : \",Islamiat,\"Out of 100\")\n",
    "print (\"Obtained Marks in English : \",English,\"Out of 100\")\n",
    "\n",
    "#Total Marks\n",
    "print(\"Total Marks : 600\")\n",
    "Total_Marks_Obtained=(Sindhi+Urdu+Science+SST+Islamiat+English)\n",
    "print(\"\\nObtained Marks : \",Total_Marks_Obtained)\n",
    "\n",
    "#Percentage\n",
    "Percentage=(Total_Marks_Obtained/600)*100\n",
    "print(\"Percentage : \",Percentage)\n",
    "\n",
    "#If Else Condition for Percentage Calculation\n",
    "if Percentage>=80:\n",
    "    print(\"Grade : A+\")\n",
    "    print(\"Remarks : Excellant Academic Performance\")\n",
    "elif Percentage>=70:\n",
    "    print(\"Grade : A\")\n",
    "    print(\"Remarks : Good Academic Performance\")\n",
    "elif Percentage>=60:\n",
    "    print(\"Grade : B\")\n",
    "    print(\"Remarks : Satisfactory Academic Performance\")\n",
    "elif Percentage>=50:\n",
    "    print(\"Grade : C\")\n",
    "    print(\"Remarks : Unsatisfactory Academic Performance\")\n",
    "elif Percentage>=40:\n",
    "    print(\"Grade : D\")\n",
    "    print(\"Remarks : Poor Academic Performance\")\n",
    "else:\n",
    "    print(\"Remarks : Failed Work hard\" )\n",
    "\n",
    "\n"
   ]
  },
  {
   "cell_type": "code",
   "execution_count": null,
   "metadata": {},
   "outputs": [],
   "source": []
  }
 ],
 "metadata": {
  "kernelspec": {
   "display_name": "Python 3",
   "language": "python",
   "name": "python3"
  },
  "language_info": {
   "codemirror_mode": {
    "name": "ipython",
    "version": 3
   },
   "file_extension": ".py",
   "mimetype": "text/x-python",
   "name": "python",
   "nbconvert_exporter": "python",
   "pygments_lexer": "ipython3",
   "version": "3.7.1"
  }
 },
 "nbformat": 4,
 "nbformat_minor": 2
}
